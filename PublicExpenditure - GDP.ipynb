{
 "cells": [
  {
   "cell_type": "code",
   "execution_count": 1,
   "id": "f5da2727",
   "metadata": {},
   "outputs": [],
   "source": [
    "import pandas as pd\n",
    "import matplotlib.pyplot as plt\n",
    "import numpy as np"
   ]
  },
  {
   "cell_type": "code",
   "execution_count": 28,
   "id": "df3a84b1",
   "metadata": {},
   "outputs": [],
   "source": [
    "df = pd.read_csv(\"C:/Users/miran/Desktop/worldbankdata.csv\")"
   ]
  },
  {
   "cell_type": "code",
   "execution_count": 29,
   "id": "3226b499",
   "metadata": {},
   "outputs": [
    {
     "data": {
      "text/html": [
       "<div>\n",
       "<style scoped>\n",
       "    .dataframe tbody tr th:only-of-type {\n",
       "        vertical-align: middle;\n",
       "    }\n",
       "\n",
       "    .dataframe tbody tr th {\n",
       "        vertical-align: top;\n",
       "    }\n",
       "\n",
       "    .dataframe thead th {\n",
       "        text-align: right;\n",
       "    }\n",
       "</style>\n",
       "<table border=\"1\" class=\"dataframe\">\n",
       "  <thead>\n",
       "    <tr style=\"text-align: right;\">\n",
       "      <th></th>\n",
       "      <th>Country Code</th>\n",
       "      <th>public_expenditure</th>\n",
       "      <th>gdp_pc</th>\n",
       "      <th>population</th>\n",
       "    </tr>\n",
       "  </thead>\n",
       "  <tbody>\n",
       "    <tr>\n",
       "      <th>0</th>\n",
       "      <td>NIC</td>\n",
       "      <td>14.982349</td>\n",
       "      <td>1923.915858</td>\n",
       "      <td>6624554</td>\n",
       "    </tr>\n",
       "    <tr>\n",
       "      <th>1</th>\n",
       "      <td>PAN</td>\n",
       "      <td>16.885536</td>\n",
       "      <td>12172.310810</td>\n",
       "      <td>4314768</td>\n",
       "    </tr>\n",
       "    <tr>\n",
       "      <th>2</th>\n",
       "      <td>CRI</td>\n",
       "      <td>17.651701</td>\n",
       "      <td>12126.625950</td>\n",
       "      <td>5094114</td>\n",
       "    </tr>\n",
       "    <tr>\n",
       "      <th>3</th>\n",
       "      <td>SLV</td>\n",
       "      <td>19.382866</td>\n",
       "      <td>3632.453881</td>\n",
       "      <td>6486201</td>\n",
       "    </tr>\n",
       "    <tr>\n",
       "      <th>4</th>\n",
       "      <td>BLZ</td>\n",
       "      <td>15.470175</td>\n",
       "      <td>3851.698241</td>\n",
       "      <td>397621</td>\n",
       "    </tr>\n",
       "    <tr>\n",
       "      <th>5</th>\n",
       "      <td>HND</td>\n",
       "      <td>14.974196</td>\n",
       "      <td>2239.008150</td>\n",
       "      <td>9904608</td>\n",
       "    </tr>\n",
       "    <tr>\n",
       "      <th>6</th>\n",
       "      <td>GTM</td>\n",
       "      <td>11.544723</td>\n",
       "      <td>4126.205428</td>\n",
       "      <td>16858333</td>\n",
       "    </tr>\n",
       "    <tr>\n",
       "      <th>7</th>\n",
       "      <td>DOM</td>\n",
       "      <td>12.626615</td>\n",
       "      <td>7677.710372</td>\n",
       "      <td>10847904</td>\n",
       "    </tr>\n",
       "    <tr>\n",
       "      <th>8</th>\n",
       "      <td>MEX</td>\n",
       "      <td>12.564645</td>\n",
       "      <td>8922.612472</td>\n",
       "      <td>128932753</td>\n",
       "    </tr>\n",
       "    <tr>\n",
       "      <th>9</th>\n",
       "      <td>ARG</td>\n",
       "      <td>15.531411</td>\n",
       "      <td>11344.405740</td>\n",
       "      <td>45376763</td>\n",
       "    </tr>\n",
       "    <tr>\n",
       "      <th>10</th>\n",
       "      <td>BRA</td>\n",
       "      <td>20.479268</td>\n",
       "      <td>8228.774263</td>\n",
       "      <td>212559409</td>\n",
       "    </tr>\n",
       "    <tr>\n",
       "      <th>11</th>\n",
       "      <td>COL</td>\n",
       "      <td>17.166891</td>\n",
       "      <td>5871.161729</td>\n",
       "      <td>50882884</td>\n",
       "    </tr>\n",
       "    <tr>\n",
       "      <th>12</th>\n",
       "      <td>ECU</td>\n",
       "      <td>16.356740</td>\n",
       "      <td>5315.516535</td>\n",
       "      <td>17643060</td>\n",
       "    </tr>\n",
       "    <tr>\n",
       "      <th>13</th>\n",
       "      <td>PER</td>\n",
       "      <td>16.071320</td>\n",
       "      <td>5807.065401</td>\n",
       "      <td>32971846</td>\n",
       "    </tr>\n",
       "    <tr>\n",
       "      <th>14</th>\n",
       "      <td>CHL</td>\n",
       "      <td>16.035792</td>\n",
       "      <td>12890.264340</td>\n",
       "      <td>19116209</td>\n",
       "    </tr>\n",
       "    <tr>\n",
       "      <th>15</th>\n",
       "      <td>BOL</td>\n",
       "      <td>19.738634</td>\n",
       "      <td>2986.024433</td>\n",
       "      <td>11673029</td>\n",
       "    </tr>\n",
       "    <tr>\n",
       "      <th>16</th>\n",
       "      <td>PRY</td>\n",
       "      <td>12.644473</td>\n",
       "      <td>5656.261202</td>\n",
       "      <td>7132530</td>\n",
       "    </tr>\n",
       "  </tbody>\n",
       "</table>\n",
       "</div>"
      ],
      "text/plain": [
       "   Country Code  public_expenditure        gdp_pc  population\n",
       "0           NIC           14.982349   1923.915858     6624554\n",
       "1           PAN           16.885536  12172.310810     4314768\n",
       "2           CRI           17.651701  12126.625950     5094114\n",
       "3           SLV           19.382866   3632.453881     6486201\n",
       "4           BLZ           15.470175   3851.698241      397621\n",
       "5           HND           14.974196   2239.008150     9904608\n",
       "6           GTM           11.544723   4126.205428    16858333\n",
       "7           DOM           12.626615   7677.710372    10847904\n",
       "8           MEX           12.564645   8922.612472   128932753\n",
       "9           ARG           15.531411  11344.405740    45376763\n",
       "10          BRA           20.479268   8228.774263   212559409\n",
       "11          COL           17.166891   5871.161729    50882884\n",
       "12          ECU           16.356740   5315.516535    17643060\n",
       "13          PER           16.071320   5807.065401    32971846\n",
       "14          CHL           16.035792  12890.264340    19116209\n",
       "15          BOL           19.738634   2986.024433    11673029\n",
       "16          PRY           12.644473   5656.261202     7132530"
      ]
     },
     "execution_count": 29,
     "metadata": {},
     "output_type": "execute_result"
    }
   ],
   "source": [
    "# Añadir mas observaciones, es decir, mas paises\n",
    "df"
   ]
  },
  {
   "cell_type": "code",
   "execution_count": 30,
   "id": "b2f859e2",
   "metadata": {
    "scrolled": true
   },
   "outputs": [
    {
     "data": {
      "text/plain": [
       "dtype('float64')"
      ]
     },
     "execution_count": 30,
     "metadata": {},
     "output_type": "execute_result"
    }
   ],
   "source": [
    "df['gdp_pc'].dtype"
   ]
  },
  {
   "cell_type": "code",
   "execution_count": 31,
   "id": "26b4f516",
   "metadata": {},
   "outputs": [
    {
     "data": {
      "text/plain": [
       "dtype('float64')"
      ]
     },
     "execution_count": 31,
     "metadata": {},
     "output_type": "execute_result"
    }
   ],
   "source": [
    "df['public_expenditure'].dtype"
   ]
  },
  {
   "cell_type": "code",
   "execution_count": 32,
   "id": "393ce1e6",
   "metadata": {},
   "outputs": [
    {
     "data": {
      "text/plain": [
       "dtype('int64')"
      ]
     },
     "execution_count": 32,
     "metadata": {},
     "output_type": "execute_result"
    }
   ],
   "source": [
    "df['population'].dtype"
   ]
  },
  {
   "cell_type": "code",
   "execution_count": 33,
   "id": "ba877a34",
   "metadata": {},
   "outputs": [
    {
     "ename": "IndexingError",
     "evalue": "Too many indexers",
     "output_type": "error",
     "traceback": [
      "\u001b[1;31m---------------------------------------------------------------------------\u001b[0m",
      "\u001b[1;31mIndexingError\u001b[0m                             Traceback (most recent call last)",
      "\u001b[1;32m~\\AppData\\Local\\Temp/ipykernel_21856/1466831415.py\u001b[0m in \u001b[0;36m<module>\u001b[1;34m\u001b[0m\n\u001b[1;32m----> 1\u001b[1;33m \u001b[0mdf2\u001b[0m \u001b[1;33m=\u001b[0m \u001b[0mdf\u001b[0m\u001b[1;33m.\u001b[0m\u001b[0mloc\u001b[0m\u001b[1;33m[\u001b[0m\u001b[1;34m'NIC'\u001b[0m\u001b[1;33m,\u001b[0m \u001b[1;34m'PAN'\u001b[0m\u001b[1;33m,\u001b[0m \u001b[1;34m'CRI'\u001b[0m\u001b[1;33m]\u001b[0m\u001b[1;33m\u001b[0m\u001b[1;33m\u001b[0m\u001b[0m\n\u001b[0m",
      "\u001b[1;32m~\\anaconda3\\lib\\site-packages\\pandas\\core\\indexing.py\u001b[0m in \u001b[0;36m__getitem__\u001b[1;34m(self, key)\u001b[0m\n\u001b[0;32m    923\u001b[0m                 \u001b[1;32mwith\u001b[0m \u001b[0msuppress\u001b[0m\u001b[1;33m(\u001b[0m\u001b[0mKeyError\u001b[0m\u001b[1;33m,\u001b[0m \u001b[0mIndexError\u001b[0m\u001b[1;33m)\u001b[0m\u001b[1;33m:\u001b[0m\u001b[1;33m\u001b[0m\u001b[1;33m\u001b[0m\u001b[0m\n\u001b[0;32m    924\u001b[0m                     \u001b[1;32mreturn\u001b[0m \u001b[0mself\u001b[0m\u001b[1;33m.\u001b[0m\u001b[0mobj\u001b[0m\u001b[1;33m.\u001b[0m\u001b[0m_get_value\u001b[0m\u001b[1;33m(\u001b[0m\u001b[1;33m*\u001b[0m\u001b[0mkey\u001b[0m\u001b[1;33m,\u001b[0m \u001b[0mtakeable\u001b[0m\u001b[1;33m=\u001b[0m\u001b[0mself\u001b[0m\u001b[1;33m.\u001b[0m\u001b[0m_takeable\u001b[0m\u001b[1;33m)\u001b[0m\u001b[1;33m\u001b[0m\u001b[1;33m\u001b[0m\u001b[0m\n\u001b[1;32m--> 925\u001b[1;33m             \u001b[1;32mreturn\u001b[0m \u001b[0mself\u001b[0m\u001b[1;33m.\u001b[0m\u001b[0m_getitem_tuple\u001b[0m\u001b[1;33m(\u001b[0m\u001b[0mkey\u001b[0m\u001b[1;33m)\u001b[0m\u001b[1;33m\u001b[0m\u001b[1;33m\u001b[0m\u001b[0m\n\u001b[0m\u001b[0;32m    926\u001b[0m         \u001b[1;32melse\u001b[0m\u001b[1;33m:\u001b[0m\u001b[1;33m\u001b[0m\u001b[1;33m\u001b[0m\u001b[0m\n\u001b[0;32m    927\u001b[0m             \u001b[1;31m# we by definition only have the 0th axis\u001b[0m\u001b[1;33m\u001b[0m\u001b[1;33m\u001b[0m\u001b[0m\n",
      "\u001b[1;32m~\\anaconda3\\lib\\site-packages\\pandas\\core\\indexing.py\u001b[0m in \u001b[0;36m_getitem_tuple\u001b[1;34m(self, tup)\u001b[0m\n\u001b[0;32m   1101\u001b[0m \u001b[1;33m\u001b[0m\u001b[0m\n\u001b[0;32m   1102\u001b[0m         \u001b[1;31m# no multi-index, so validate all of the indexers\u001b[0m\u001b[1;33m\u001b[0m\u001b[1;33m\u001b[0m\u001b[0m\n\u001b[1;32m-> 1103\u001b[1;33m         \u001b[0mself\u001b[0m\u001b[1;33m.\u001b[0m\u001b[0m_has_valid_tuple\u001b[0m\u001b[1;33m(\u001b[0m\u001b[0mtup\u001b[0m\u001b[1;33m)\u001b[0m\u001b[1;33m\u001b[0m\u001b[1;33m\u001b[0m\u001b[0m\n\u001b[0m\u001b[0;32m   1104\u001b[0m \u001b[1;33m\u001b[0m\u001b[0m\n\u001b[0;32m   1105\u001b[0m         \u001b[1;31m# ugly hack for GH #836\u001b[0m\u001b[1;33m\u001b[0m\u001b[1;33m\u001b[0m\u001b[0m\n",
      "\u001b[1;32m~\\anaconda3\\lib\\site-packages\\pandas\\core\\indexing.py\u001b[0m in \u001b[0;36m_has_valid_tuple\u001b[1;34m(self, key)\u001b[0m\n\u001b[0;32m    749\u001b[0m         \u001b[0mCheck\u001b[0m \u001b[0mthe\u001b[0m \u001b[0mkey\u001b[0m \u001b[1;32mfor\u001b[0m \u001b[0mvalid\u001b[0m \u001b[0mkeys\u001b[0m \u001b[0macross\u001b[0m \u001b[0mmy\u001b[0m \u001b[0mindexer\u001b[0m\u001b[1;33m.\u001b[0m\u001b[1;33m\u001b[0m\u001b[1;33m\u001b[0m\u001b[0m\n\u001b[0;32m    750\u001b[0m         \"\"\"\n\u001b[1;32m--> 751\u001b[1;33m         \u001b[0mself\u001b[0m\u001b[1;33m.\u001b[0m\u001b[0m_validate_key_length\u001b[0m\u001b[1;33m(\u001b[0m\u001b[0mkey\u001b[0m\u001b[1;33m)\u001b[0m\u001b[1;33m\u001b[0m\u001b[1;33m\u001b[0m\u001b[0m\n\u001b[0m\u001b[0;32m    752\u001b[0m         \u001b[1;32mfor\u001b[0m \u001b[0mi\u001b[0m\u001b[1;33m,\u001b[0m \u001b[0mk\u001b[0m \u001b[1;32min\u001b[0m \u001b[0menumerate\u001b[0m\u001b[1;33m(\u001b[0m\u001b[0mkey\u001b[0m\u001b[1;33m)\u001b[0m\u001b[1;33m:\u001b[0m\u001b[1;33m\u001b[0m\u001b[1;33m\u001b[0m\u001b[0m\n\u001b[0;32m    753\u001b[0m             \u001b[1;32mtry\u001b[0m\u001b[1;33m:\u001b[0m\u001b[1;33m\u001b[0m\u001b[1;33m\u001b[0m\u001b[0m\n",
      "\u001b[1;32m~\\anaconda3\\lib\\site-packages\\pandas\\core\\indexing.py\u001b[0m in \u001b[0;36m_validate_key_length\u001b[1;34m(self, key)\u001b[0m\n\u001b[0;32m    790\u001b[0m     \u001b[1;32mdef\u001b[0m \u001b[0m_validate_key_length\u001b[0m\u001b[1;33m(\u001b[0m\u001b[0mself\u001b[0m\u001b[1;33m,\u001b[0m \u001b[0mkey\u001b[0m\u001b[1;33m:\u001b[0m \u001b[0mSequence\u001b[0m\u001b[1;33m[\u001b[0m\u001b[0mAny\u001b[0m\u001b[1;33m]\u001b[0m\u001b[1;33m)\u001b[0m \u001b[1;33m->\u001b[0m \u001b[1;32mNone\u001b[0m\u001b[1;33m:\u001b[0m\u001b[1;33m\u001b[0m\u001b[1;33m\u001b[0m\u001b[0m\n\u001b[0;32m    791\u001b[0m         \u001b[1;32mif\u001b[0m \u001b[0mlen\u001b[0m\u001b[1;33m(\u001b[0m\u001b[0mkey\u001b[0m\u001b[1;33m)\u001b[0m \u001b[1;33m>\u001b[0m \u001b[0mself\u001b[0m\u001b[1;33m.\u001b[0m\u001b[0mndim\u001b[0m\u001b[1;33m:\u001b[0m\u001b[1;33m\u001b[0m\u001b[1;33m\u001b[0m\u001b[0m\n\u001b[1;32m--> 792\u001b[1;33m             \u001b[1;32mraise\u001b[0m \u001b[0mIndexingError\u001b[0m\u001b[1;33m(\u001b[0m\u001b[1;34m\"Too many indexers\"\u001b[0m\u001b[1;33m)\u001b[0m\u001b[1;33m\u001b[0m\u001b[1;33m\u001b[0m\u001b[0m\n\u001b[0m\u001b[0;32m    793\u001b[0m \u001b[1;33m\u001b[0m\u001b[0m\n\u001b[0;32m    794\u001b[0m     \u001b[1;32mdef\u001b[0m \u001b[0m_getitem_tuple_same_dim\u001b[0m\u001b[1;33m(\u001b[0m\u001b[0mself\u001b[0m\u001b[1;33m,\u001b[0m \u001b[0mtup\u001b[0m\u001b[1;33m:\u001b[0m \u001b[0mtuple\u001b[0m\u001b[1;33m)\u001b[0m\u001b[1;33m:\u001b[0m\u001b[1;33m\u001b[0m\u001b[1;33m\u001b[0m\u001b[0m\n",
      "\u001b[1;31mIndexingError\u001b[0m: Too many indexers"
     ]
    }
   ],
   "source": [
    "df2 = df.loc['NIC', 'PAN', 'CRI']"
   ]
  },
  {
   "cell_type": "code",
   "execution_count": 7,
   "id": "bc13819b",
   "metadata": {},
   "outputs": [],
   "source": [
    "x = df[['public_expenditure']]"
   ]
  },
  {
   "cell_type": "code",
   "execution_count": 8,
   "id": "f98b5e04",
   "metadata": {},
   "outputs": [],
   "source": [
    "y = df[['gdp_pc']]"
   ]
  },
  {
   "cell_type": "code",
   "execution_count": 9,
   "id": "2a0bfb5b",
   "metadata": {},
   "outputs": [],
   "source": [
    "pop = df[['population']] / 100000"
   ]
  },
  {
   "cell_type": "code",
   "execution_count": 10,
   "id": "518e9701",
   "metadata": {},
   "outputs": [],
   "source": [
    "tick_val = [12, 14, 16, 18, 20]"
   ]
  },
  {
   "cell_type": "code",
   "execution_count": 11,
   "id": "61b14ff4",
   "metadata": {},
   "outputs": [],
   "source": [
    "tick_lab = ['12%', '14%', '16%', '18%', '20%']"
   ]
  },
  {
   "cell_type": "code",
   "execution_count": 12,
   "id": "1cd3f705",
   "metadata": {
    "scrolled": true
   },
   "outputs": [
    {
     "data": {
      "text/plain": [
       "Text(0.5, 0.01, 'Nota: Elaboración propia con datos del Banco Mundial')"
      ]
     },
     "execution_count": 12,
     "metadata": {},
     "output_type": "execute_result"
    },
    {
     "data": {
      "image/png": "[encoded data removed]",
      "text/plain": [
       "<Figure size 576x432 with 1 Axes>"
      ]
     },
     "metadata": {
      "needs_background": "light"
     },
     "output_type": "display_data"
    }
   ],
   "source": [
    "# Changing the font\n",
    "plt.rcParams.update({'font.family': 'Book Antiqua'})\n",
    "plt.figure(figsize=(8,6))\n",
    "\n",
    "plt.scatter(x, y, s=pop*2, c='blue', alpha=0.7)\n",
    "plt.xticks(tick_val, tick_lab)\n",
    "plt.suptitle('¿Son los países con mayor gasto público más ricos?', fontsize=15)\n",
    "plt.xlabel(\"Gasto público como % del PIB\", fontsize=12)\n",
    "plt.ylabel(\"PIB per cápita [2015 USD]\", fontsize=12)\n",
    "plt.ylim(1000, 14000)\n",
    "plt.annotate(\"NIC\", xy=(15.3, 1750))\n",
    "plt.annotate(\"BRA\", xy=(20.2, 8228.774263))\n",
    "plt.annotate(\"GTM\", xy=(11.8, 4000))\n",
    "plt.annotate(\"MEX\", xy=(12.35, 8900))\n",
    "plt.annotate(\"HND\", xy=(15.2, 2239.008150))\n",
    "plt.annotate(\"BLZ\", xy=(15.6, 3825))\n",
    "plt.annotate(\"ARG\", xy=(15.3, 11200))\n",
    "plt.annotate(\"PAN\", xy=(17, 12172.310810))\n",
    "plt.annotate(\"SLV\", xy=(19.6, 3632.453881))\n",
    "plt.annotate(\"CRI\", xy=(17.7, 12126.62595))\n",
    "plt.annotate(\"DOM\", xy=(12.8, 7500))\n",
    "plt.annotate('COL', xy=(16.95, 5750))\n",
    "plt.annotate('ECU', xy=(16.35, 4900))\n",
    "plt.annotate('PER', xy=(16.07, 5807))\n",
    "plt.annotate('CHL', xy=(16.26, 12700))\n",
    "plt.annotate('BOL', xy=(20, 2800))\n",
    "plt.annotate('PRY', xy=(12.8, 5656.26))\n",
    "\n",
    "txt = \"Nota: Elaboración propia con datos del Banco Mundial\"\n",
    "plt.figtext(0.5, 0.01, txt, wrap=True, horizontalalignment='center', fontsize=9)\n",
    "\n",
    "plt.savefig('grafico.png', dpi=3000)"
   ]
  }
 ],
 "metadata": {
  "kernelspec": {
   "display_name": "Python 3 (ipykernel)",
   "language": "python",
   "name": "python3"
  },
  "language_info": {
   "codemirror_mode": {
    "name": "ipython",
    "version": 3
   },
   "file_extension": ".py",
   "mimetype": "text/x-python",
   "name": "python",
   "nbconvert_exporter": "python",
   "pygments_lexer": "ipython3",
   "version": "3.9.7"
  }
 },
 "nbformat": 4,
 "nbformat_minor": 5
}
