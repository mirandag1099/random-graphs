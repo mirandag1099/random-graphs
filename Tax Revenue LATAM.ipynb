{
 "cells": [
  {
   "cell_type": "code",
   "execution_count": 42,
   "id": "1418845a",
   "metadata": {},
   "outputs": [],
   "source": [
    "import pandas as pd\n",
    "import numpy as np\n",
    "import matplotlib.pyplot as plt"
   ]
  },
  {
   "cell_type": "code",
   "execution_count": 43,
   "id": "2a8c0a35",
   "metadata": {},
   "outputs": [],
   "source": [
    "df = pd.read_csv(\"C:/Users/miran/Desktop/tax_revenue.csv\")"
   ]
  },
  {
   "cell_type": "code",
   "execution_count": 44,
   "id": "677832d4",
   "metadata": {},
   "outputs": [
    {
     "data": {
      "text/html": [
       "<div>\n",
       "<style scoped>\n",
       "    .dataframe tbody tr th:only-of-type {\n",
       "        vertical-align: middle;\n",
       "    }\n",
       "\n",
       "    .dataframe tbody tr th {\n",
       "        vertical-align: top;\n",
       "    }\n",
       "\n",
       "    .dataframe thead th {\n",
       "        text-align: right;\n",
       "    }\n",
       "</style>\n",
       "<table border=\"1\" class=\"dataframe\">\n",
       "  <thead>\n",
       "    <tr style=\"text-align: right;\">\n",
       "      <th></th>\n",
       "      <th>Pais</th>\n",
       "      <th>tax</th>\n",
       "    </tr>\n",
       "  </thead>\n",
       "  <tbody>\n",
       "    <tr>\n",
       "      <th>0</th>\n",
       "      <td>PRY</td>\n",
       "      <td>9.514999</td>\n",
       "    </tr>\n",
       "    <tr>\n",
       "      <th>1</th>\n",
       "      <td>GTM</td>\n",
       "      <td>9.969756</td>\n",
       "    </tr>\n",
       "    <tr>\n",
       "      <th>2</th>\n",
       "      <td>ARG</td>\n",
       "      <td>10.758498</td>\n",
       "    </tr>\n",
       "    <tr>\n",
       "      <th>3</th>\n",
       "      <td>CRI</td>\n",
       "      <td>12.323645</td>\n",
       "    </tr>\n",
       "    <tr>\n",
       "      <th>4</th>\n",
       "      <td>DOM</td>\n",
       "      <td>12.389880</td>\n",
       "    </tr>\n",
       "  </tbody>\n",
       "</table>\n",
       "</div>"
      ],
      "text/plain": [
       "  Pais        tax\n",
       "0  PRY   9.514999\n",
       "1  GTM   9.969756\n",
       "2  ARG  10.758498\n",
       "3  CRI  12.323645\n",
       "4  DOM  12.389880"
      ]
     },
     "execution_count": 44,
     "metadata": {},
     "output_type": "execute_result"
    }
   ],
   "source": [
    "df.head()"
   ]
  },
  {
   "cell_type": "code",
   "execution_count": 28,
   "id": "84e99293",
   "metadata": {},
   "outputs": [],
   "source": [
    "pais = ['PRY', 'GTM', 'ARG', 'CRI', 'DOM', 'ECU', 'BRA', 'PER', 'COL', 'MEX', 'HND', 'CHL', 'NIC', 'SLV']"
   ]
  },
  {
   "cell_type": "code",
   "execution_count": 29,
   "id": "dc8470e4",
   "metadata": {},
   "outputs": [],
   "source": [
    "tax = [9.51, 9.96, 10.75, 12.32, 12.38, 12.53, 12.96, 13.2, 14.22, 14.33, 14.76, 16.24, 17.19, 18.60]"
   ]
  },
  {
   "cell_type": "code",
   "execution_count": 31,
   "id": "ecbedd1f",
   "metadata": {},
   "outputs": [],
   "source": [
    "np_pais = np.array(pais)"
   ]
  },
  {
   "cell_type": "code",
   "execution_count": 32,
   "id": "a389685a",
   "metadata": {},
   "outputs": [],
   "source": [
    "np_tax = np.array(tax)"
   ]
  },
  {
   "cell_type": "code",
   "execution_count": 34,
   "id": "bacd010f",
   "metadata": {},
   "outputs": [
    {
     "data": {
      "text/plain": [
       "True"
      ]
     },
     "execution_count": 34,
     "metadata": {},
     "output_type": "execute_result"
    }
   ],
   "source": [
    "np_tax.ndim == np_pais.ndim"
   ]
  },
  {
   "cell_type": "code",
   "execution_count": 56,
   "id": "e298ffaf",
   "metadata": {},
   "outputs": [],
   "source": [
    "c = ['#03b1fc', '#03b1fc', '#03b1fc', '#03b1fc', '#03b1fc', '#03b1fc', '#03b1fc', '#03b1fc', '#03b1fc', '#03b1fc', '#03b1fc', \n",
    "         '#03b1fc', '#fc0384', '#03b1fc']"
   ]
  },
  {
   "cell_type": "code",
   "execution_count": 10,
   "id": "33ea3384",
   "metadata": {},
   "outputs": [],
   "source": [
    "ticks_val = [0, 4, 8, 12, 16, 20]"
   ]
  },
  {
   "cell_type": "code",
   "execution_count": 11,
   "id": "fffdee65",
   "metadata": {},
   "outputs": [],
   "source": [
    "ticks_lab = ['0%', '4%', '8%', '12%', '16%', '20%']"
   ]
  },
  {
   "cell_type": "markdown",
   "id": "d28a1bf9",
   "metadata": {},
   "source": [
    "Aqui hago solo paises de Centroamerica"
   ]
  },
  {
   "cell_type": "code",
   "execution_count": 45,
   "id": "6942ae70",
   "metadata": {},
   "outputs": [],
   "source": [
    "pais2 = ['GTM', 'CRI', 'DOM', 'HND', 'NIC', 'SLV', 'PAN']"
   ]
  },
  {
   "cell_type": "code",
   "execution_count": 46,
   "id": "f568fd5a",
   "metadata": {},
   "outputs": [],
   "source": [
    "tax2 = [9.96, 12.32, 12.38, 14.76, 17.19, 18.6, 13.7]"
   ]
  },
  {
   "cell_type": "code",
   "execution_count": 47,
   "id": "e10d4de1",
   "metadata": {},
   "outputs": [],
   "source": [
    "c2 = ['#03b1fc', '#03b1fc', '#03b1fc', '#03b1fc', '#03b1fc', '#fc0384', '#03b1fc']"
   ]
  },
  {
   "cell_type": "code",
   "execution_count": 48,
   "id": "61a23e03",
   "metadata": {},
   "outputs": [],
   "source": [
    "for item in range(len(c2)):\n",
    "    if c2[item] == '#03b1fc':\n",
    "        c2[item] = '#98F5FF'\n",
    "    else:\n",
    "        c2[item] = '#0000FF'"
   ]
  },
  {
   "cell_type": "code",
   "execution_count": 49,
   "id": "43caa76b",
   "metadata": {},
   "outputs": [
    {
     "data": {
      "text/plain": [
       "['#98F5FF', '#98F5FF', '#98F5FF', '#98F5FF', '#98F5FF', '#0000FF', '#98F5FF']"
      ]
     },
     "execution_count": 49,
     "metadata": {},
     "output_type": "execute_result"
    }
   ],
   "source": [
    "c2"
   ]
  },
  {
   "cell_type": "code",
   "execution_count": 50,
   "id": "4d1a5d08",
   "metadata": {},
   "outputs": [],
   "source": [
    "np_pais2 = np.array(pais2)"
   ]
  },
  {
   "cell_type": "code",
   "execution_count": 51,
   "id": "f5d38546",
   "metadata": {},
   "outputs": [],
   "source": [
    "np_tax2 = np.array(tax2)"
   ]
  },
  {
   "cell_type": "code",
   "execution_count": 52,
   "id": "7453d650",
   "metadata": {},
   "outputs": [],
   "source": [
    "df2 = pd.DataFrame({'Country': pais2,\n",
    "                   'Tax': tax2})"
   ]
  },
  {
   "cell_type": "code",
   "execution_count": 53,
   "id": "4a0eb4e1",
   "metadata": {},
   "outputs": [],
   "source": [
    "df2 = df2.sort_values('Tax', ascending=True)"
   ]
  },
  {
   "cell_type": "code",
   "execution_count": 54,
   "id": "bf5a125c",
   "metadata": {},
   "outputs": [
    {
     "data": {
      "text/html": [
       "<div>\n",
       "<style scoped>\n",
       "    .dataframe tbody tr th:only-of-type {\n",
       "        vertical-align: middle;\n",
       "    }\n",
       "\n",
       "    .dataframe tbody tr th {\n",
       "        vertical-align: top;\n",
       "    }\n",
       "\n",
       "    .dataframe thead th {\n",
       "        text-align: right;\n",
       "    }\n",
       "</style>\n",
       "<table border=\"1\" class=\"dataframe\">\n",
       "  <thead>\n",
       "    <tr style=\"text-align: right;\">\n",
       "      <th></th>\n",
       "      <th>Country</th>\n",
       "      <th>Tax</th>\n",
       "    </tr>\n",
       "  </thead>\n",
       "  <tbody>\n",
       "    <tr>\n",
       "      <th>0</th>\n",
       "      <td>GTM</td>\n",
       "      <td>9.96</td>\n",
       "    </tr>\n",
       "    <tr>\n",
       "      <th>1</th>\n",
       "      <td>CRI</td>\n",
       "      <td>12.32</td>\n",
       "    </tr>\n",
       "    <tr>\n",
       "      <th>2</th>\n",
       "      <td>DOM</td>\n",
       "      <td>12.38</td>\n",
       "    </tr>\n",
       "    <tr>\n",
       "      <th>6</th>\n",
       "      <td>PAN</td>\n",
       "      <td>13.70</td>\n",
       "    </tr>\n",
       "    <tr>\n",
       "      <th>3</th>\n",
       "      <td>HND</td>\n",
       "      <td>14.76</td>\n",
       "    </tr>\n",
       "    <tr>\n",
       "      <th>4</th>\n",
       "      <td>NIC</td>\n",
       "      <td>17.19</td>\n",
       "    </tr>\n",
       "    <tr>\n",
       "      <th>5</th>\n",
       "      <td>SLV</td>\n",
       "      <td>18.60</td>\n",
       "    </tr>\n",
       "  </tbody>\n",
       "</table>\n",
       "</div>"
      ],
      "text/plain": [
       "  Country    Tax\n",
       "0     GTM   9.96\n",
       "1     CRI  12.32\n",
       "2     DOM  12.38\n",
       "6     PAN  13.70\n",
       "3     HND  14.76\n",
       "4     NIC  17.19\n",
       "5     SLV  18.60"
      ]
     },
     "execution_count": 54,
     "metadata": {},
     "output_type": "execute_result"
    }
   ],
   "source": [
    "df2"
   ]
  },
  {
   "cell_type": "code",
   "execution_count": 55,
   "id": "9ae8855e",
   "metadata": {},
   "outputs": [
    {
     "data": {
      "image/png": "[encoded data removed]",
      "text/plain": [
       "<Figure size 576x432 with 1 Axes>"
      ]
     },
     "metadata": {
      "needs_background": "light"
     },
     "output_type": "display_data"
    }
   ],
   "source": [
    "plt.rcParams.update({'font.family': 'Book Antiqua'})\n",
    "plt.figure(figsize=(8,6))\n",
    "\n",
    "plt.barh(df2['Country'], df2['Tax'], height=0.9, color=c2)\n",
    "plt.xticks(ticks_val, ticks_lab)\n",
    "plt.suptitle(\"Recaudación tributaria como % del PIB (2020)\", fontsize=15)\n",
    "\n",
    "txt = \"Nota: Elaboración propia con datos del Banco Mundial\"\n",
    "plt.figtext(0.5, 0.01, txt, wrap=True, horizontalalignment='center', fontsize=9)\n",
    "\n",
    "plt.savefig('grafico_politica.png', dpi=2500)"
   ]
  },
  {
   "cell_type": "markdown",
   "id": "2273cdb1",
   "metadata": {},
   "source": [
    "Aqui incluyo todos los paises de Latam/"
   ]
  },
  {
   "cell_type": "code",
   "execution_count": 61,
   "id": "97b1ff84",
   "metadata": {},
   "outputs": [
    {
     "data": {
      "image/png": "[encoded data removed]",
      "text/plain": [
       "<Figure size 576x432 with 1 Axes>"
      ]
     },
     "metadata": {
      "needs_background": "light"
     },
     "output_type": "display_data"
    }
   ],
   "source": [
    "plt.rcParams.update({'font.family': 'Book Antiqua'})\n",
    "plt.figure(figsize=(8,6))\n",
    "\n",
    "plt.barh(np_pais, np_tax, height=0.9, color=c)\n",
    "plt.xticks(ticks_val, ticks_lab)\n",
    "plt.suptitle(\"Recaudación tributaria como % del PIB\", fontsize=15)\n",
    "\n",
    "\n",
    "txt = \"Nota: Elaboración propia con datos del Banco Mundial\"\n",
    "plt.figtext(0.5, 0.01, txt, wrap=True, horizontalalignment='center', fontsize=9)\n",
    "\n",
    "plt.savefig('grafico1.png', dpi=3000)"
   ]
  },
  {
   "cell_type": "code",
   "execution_count": null,
   "id": "16f271f1",
   "metadata": {},
   "outputs": [],
   "source": []
  }
 ],
 "metadata": {
  "kernelspec": {
   "display_name": "Python 3 (ipykernel)",
   "language": "python",
   "name": "python3"
  },
  "language_info": {
   "codemirror_mode": {
    "name": "ipython",
    "version": 3
   },
   "file_extension": ".py",
   "mimetype": "text/x-python",
   "name": "python",
   "nbconvert_exporter": "python",
   "pygments_lexer": "ipython3",
   "version": "3.9.7"
  }
 },
 "nbformat": 4,
 "nbformat_minor": 5
}
