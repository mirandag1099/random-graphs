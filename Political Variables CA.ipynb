{
 "cells": [
  {
   "cell_type": "code",
   "execution_count": 32,
   "id": "56d6408a",
   "metadata": {},
   "outputs": [],
   "source": [
    "import pandas as pd\n",
    "import matplotlib.pyplot as plt"
   ]
  },
  {
   "cell_type": "code",
   "execution_count": 2,
   "id": "6c20fa62",
   "metadata": {},
   "outputs": [],
   "source": [
    "df = pd.read_csv(\"C:/Users/miran/Desktop/politica.csv\")"
   ]
  },
  {
   "cell_type": "code",
   "execution_count": 3,
   "id": "0bd8c6fe",
   "metadata": {},
   "outputs": [
    {
     "data": {
      "text/html": [
       "<div>\n",
       "<style scoped>\n",
       "    .dataframe tbody tr th:only-of-type {\n",
       "        vertical-align: middle;\n",
       "    }\n",
       "\n",
       "    .dataframe tbody tr th {\n",
       "        vertical-align: top;\n",
       "    }\n",
       "\n",
       "    .dataframe thead th {\n",
       "        text-align: right;\n",
       "    }\n",
       "</style>\n",
       "<table border=\"1\" class=\"dataframe\">\n",
       "  <thead>\n",
       "    <tr style=\"text-align: right;\">\n",
       "      <th></th>\n",
       "      <th>Country Code</th>\n",
       "      <th>public_expenditure</th>\n",
       "      <th>gdp_pc</th>\n",
       "      <th>population</th>\n",
       "    </tr>\n",
       "  </thead>\n",
       "  <tbody>\n",
       "    <tr>\n",
       "      <th>0</th>\n",
       "      <td>NIC</td>\n",
       "      <td>14.982349</td>\n",
       "      <td>1923.915858</td>\n",
       "      <td>6624554</td>\n",
       "    </tr>\n",
       "    <tr>\n",
       "      <th>1</th>\n",
       "      <td>PAN</td>\n",
       "      <td>16.885536</td>\n",
       "      <td>12172.310810</td>\n",
       "      <td>4314768</td>\n",
       "    </tr>\n",
       "    <tr>\n",
       "      <th>2</th>\n",
       "      <td>CRI</td>\n",
       "      <td>17.651701</td>\n",
       "      <td>12126.625950</td>\n",
       "      <td>5094114</td>\n",
       "    </tr>\n",
       "    <tr>\n",
       "      <th>3</th>\n",
       "      <td>SLV</td>\n",
       "      <td>19.382866</td>\n",
       "      <td>3632.453881</td>\n",
       "      <td>6486201</td>\n",
       "    </tr>\n",
       "    <tr>\n",
       "      <th>4</th>\n",
       "      <td>HND</td>\n",
       "      <td>14.974196</td>\n",
       "      <td>2239.008150</td>\n",
       "      <td>9904608</td>\n",
       "    </tr>\n",
       "    <tr>\n",
       "      <th>5</th>\n",
       "      <td>GTM</td>\n",
       "      <td>11.544723</td>\n",
       "      <td>4126.205428</td>\n",
       "      <td>16858333</td>\n",
       "    </tr>\n",
       "    <tr>\n",
       "      <th>6</th>\n",
       "      <td>DOM</td>\n",
       "      <td>12.626615</td>\n",
       "      <td>7677.710372</td>\n",
       "      <td>10847904</td>\n",
       "    </tr>\n",
       "  </tbody>\n",
       "</table>\n",
       "</div>"
      ],
      "text/plain": [
       "  Country Code  public_expenditure        gdp_pc  population\n",
       "0          NIC           14.982349   1923.915858     6624554\n",
       "1          PAN           16.885536  12172.310810     4314768\n",
       "2          CRI           17.651701  12126.625950     5094114\n",
       "3          SLV           19.382866   3632.453881     6486201\n",
       "4          HND           14.974196   2239.008150     9904608\n",
       "5          GTM           11.544723   4126.205428    16858333\n",
       "6          DOM           12.626615   7677.710372    10847904"
      ]
     },
     "execution_count": 3,
     "metadata": {},
     "output_type": "execute_result"
    }
   ],
   "source": [
    "df"
   ]
  },
  {
   "cell_type": "code",
   "execution_count": 16,
   "id": "f7ef2f48",
   "metadata": {},
   "outputs": [],
   "source": [
    "c = ['#98F5FF', '#98F5FF', '#98F5FF', '#0000FF', '#98F5FF', '#98F5FF', '#98F5FF']"
   ]
  },
  {
   "cell_type": "code",
   "execution_count": 11,
   "id": "15e3e299",
   "metadata": {},
   "outputs": [],
   "source": [
    "df = df.sort_values('public_expenditure', ascending=False)"
   ]
  },
  {
   "cell_type": "code",
   "execution_count": 12,
   "id": "a105a0de",
   "metadata": {},
   "outputs": [
    {
     "data": {
      "text/html": [
       "<div>\n",
       "<style scoped>\n",
       "    .dataframe tbody tr th:only-of-type {\n",
       "        vertical-align: middle;\n",
       "    }\n",
       "\n",
       "    .dataframe tbody tr th {\n",
       "        vertical-align: top;\n",
       "    }\n",
       "\n",
       "    .dataframe thead th {\n",
       "        text-align: right;\n",
       "    }\n",
       "</style>\n",
       "<table border=\"1\" class=\"dataframe\">\n",
       "  <thead>\n",
       "    <tr style=\"text-align: right;\">\n",
       "      <th></th>\n",
       "      <th>Country Code</th>\n",
       "      <th>public_expenditure</th>\n",
       "      <th>gdp_pc</th>\n",
       "      <th>population</th>\n",
       "    </tr>\n",
       "  </thead>\n",
       "  <tbody>\n",
       "    <tr>\n",
       "      <th>3</th>\n",
       "      <td>SLV</td>\n",
       "      <td>19.382866</td>\n",
       "      <td>3632.453881</td>\n",
       "      <td>6486201</td>\n",
       "    </tr>\n",
       "    <tr>\n",
       "      <th>2</th>\n",
       "      <td>CRI</td>\n",
       "      <td>17.651701</td>\n",
       "      <td>12126.625950</td>\n",
       "      <td>5094114</td>\n",
       "    </tr>\n",
       "    <tr>\n",
       "      <th>1</th>\n",
       "      <td>PAN</td>\n",
       "      <td>16.885536</td>\n",
       "      <td>12172.310810</td>\n",
       "      <td>4314768</td>\n",
       "    </tr>\n",
       "    <tr>\n",
       "      <th>0</th>\n",
       "      <td>NIC</td>\n",
       "      <td>14.982349</td>\n",
       "      <td>1923.915858</td>\n",
       "      <td>6624554</td>\n",
       "    </tr>\n",
       "    <tr>\n",
       "      <th>4</th>\n",
       "      <td>HND</td>\n",
       "      <td>14.974196</td>\n",
       "      <td>2239.008150</td>\n",
       "      <td>9904608</td>\n",
       "    </tr>\n",
       "    <tr>\n",
       "      <th>6</th>\n",
       "      <td>DOM</td>\n",
       "      <td>12.626615</td>\n",
       "      <td>7677.710372</td>\n",
       "      <td>10847904</td>\n",
       "    </tr>\n",
       "    <tr>\n",
       "      <th>5</th>\n",
       "      <td>GTM</td>\n",
       "      <td>11.544723</td>\n",
       "      <td>4126.205428</td>\n",
       "      <td>16858333</td>\n",
       "    </tr>\n",
       "  </tbody>\n",
       "</table>\n",
       "</div>"
      ],
      "text/plain": [
       "  Country Code  public_expenditure        gdp_pc  population\n",
       "3          SLV           19.382866   3632.453881     6486201\n",
       "2          CRI           17.651701  12126.625950     5094114\n",
       "1          PAN           16.885536  12172.310810     4314768\n",
       "0          NIC           14.982349   1923.915858     6624554\n",
       "4          HND           14.974196   2239.008150     9904608\n",
       "6          DOM           12.626615   7677.710372    10847904\n",
       "5          GTM           11.544723   4126.205428    16858333"
      ]
     },
     "execution_count": 12,
     "metadata": {},
     "output_type": "execute_result"
    }
   ],
   "source": [
    "df"
   ]
  },
  {
   "cell_type": "code",
   "execution_count": 19,
   "id": "9f531511",
   "metadata": {},
   "outputs": [
    {
     "data": {
      "image/png": "[encoded data removed]",
      "text/plain": [
       "<Figure size 576x432 with 1 Axes>"
      ]
     },
     "metadata": {
      "needs_background": "light"
     },
     "output_type": "display_data"
    }
   ],
   "source": [
    "plt.rcParams.update({'font.family': 'Book Antiqua'})\n",
    "plt.figure(figsize=(8,6))\n",
    "\n",
    "plt.bar(df['Country Code'], df['public_expenditure'], color=c)\n",
    "plt.suptitle(\"Gasto público como % del PIB (2020)\", fontsize=15)\n",
    "plt.ylabel('%', fontsize=12)\n",
    "\n",
    "txt = \"Nota: Elaboración propia con datos del Banco Mundial\"\n",
    "plt.figtext(0.5, 0.01, txt, wrap=True, horizontalalignment='center', fontsize=9)\n",
    "\n",
    "plt.savefig('grafico_gasto_publico.png', dpi=2500)"
   ]
  },
  {
   "cell_type": "markdown",
   "id": "185e39ed",
   "metadata": {},
   "source": [
    "Importando datos: Deuda publica del gobierno central como % del PIB 2020"
   ]
  },
  {
   "cell_type": "code",
   "execution_count": 19,
   "id": "a7b2ba55",
   "metadata": {},
   "outputs": [],
   "source": [
    "df2 = pd.read_excel(\"C:/Users/miran/Desktop/deuda_publica.xlsx\")"
   ]
  },
  {
   "cell_type": "code",
   "execution_count": 20,
   "id": "4c5622e0",
   "metadata": {},
   "outputs": [
    {
     "data": {
      "text/html": [
       "<div>\n",
       "<style scoped>\n",
       "    .dataframe tbody tr th:only-of-type {\n",
       "        vertical-align: middle;\n",
       "    }\n",
       "\n",
       "    .dataframe tbody tr th {\n",
       "        vertical-align: top;\n",
       "    }\n",
       "\n",
       "    .dataframe thead th {\n",
       "        text-align: right;\n",
       "    }\n",
       "</style>\n",
       "<table border=\"1\" class=\"dataframe\">\n",
       "  <thead>\n",
       "    <tr style=\"text-align: right;\">\n",
       "      <th></th>\n",
       "      <th>pais</th>\n",
       "      <th>value</th>\n",
       "    </tr>\n",
       "  </thead>\n",
       "  <tbody>\n",
       "    <tr>\n",
       "      <th>0</th>\n",
       "      <td>PAN</td>\n",
       "      <td>69.76457</td>\n",
       "    </tr>\n",
       "    <tr>\n",
       "      <th>1</th>\n",
       "      <td>CRI</td>\n",
       "      <td>67.50000</td>\n",
       "    </tr>\n",
       "    <tr>\n",
       "      <th>2</th>\n",
       "      <td>SLV</td>\n",
       "      <td>62.64950</td>\n",
       "    </tr>\n",
       "    <tr>\n",
       "      <th>3</th>\n",
       "      <td>HND</td>\n",
       "      <td>58.90000</td>\n",
       "    </tr>\n",
       "    <tr>\n",
       "      <th>4</th>\n",
       "      <td>DOM</td>\n",
       "      <td>55.91987</td>\n",
       "    </tr>\n",
       "    <tr>\n",
       "      <th>5</th>\n",
       "      <td>NIC</td>\n",
       "      <td>48.47068</td>\n",
       "    </tr>\n",
       "    <tr>\n",
       "      <th>6</th>\n",
       "      <td>GTM</td>\n",
       "      <td>28.69032</td>\n",
       "    </tr>\n",
       "  </tbody>\n",
       "</table>\n",
       "</div>"
      ],
      "text/plain": [
       "  pais     value\n",
       "0  PAN  69.76457\n",
       "1  CRI  67.50000\n",
       "2  SLV  62.64950\n",
       "3  HND  58.90000\n",
       "4  DOM  55.91987\n",
       "5  NIC  48.47068\n",
       "6  GTM  28.69032"
      ]
     },
     "execution_count": 20,
     "metadata": {},
     "output_type": "execute_result"
    }
   ],
   "source": [
    "df2"
   ]
  },
  {
   "cell_type": "code",
   "execution_count": 6,
   "id": "bf9e435e",
   "metadata": {},
   "outputs": [
    {
     "data": {
      "text/plain": [
       "pais      object\n",
       "value    float64\n",
       "dtype: object"
      ]
     },
     "execution_count": 6,
     "metadata": {},
     "output_type": "execute_result"
    }
   ],
   "source": [
    "df2.dtypes"
   ]
  },
  {
   "cell_type": "code",
   "execution_count": 26,
   "id": "15ed84a8",
   "metadata": {},
   "outputs": [],
   "source": [
    "c3 = ['#98F5FF', '#98F5FF', '#98F5FF', '#98F5FF', '#98F5FF', '#0000FF', '#98F5FF']"
   ]
  },
  {
   "cell_type": "code",
   "execution_count": 28,
   "id": "22efa13e",
   "metadata": {},
   "outputs": [
    {
     "data": {
      "image/png": "[encoded data removed]",
      "text/plain": [
       "<Figure size 576x432 with 1 Axes>"
      ]
     },
     "metadata": {
      "needs_background": "light"
     },
     "output_type": "display_data"
    }
   ],
   "source": [
    "plt.rcParams.update({'font.family': 'Book Antiqua'})\n",
    "plt.figure(figsize=(8,6))\n",
    "\n",
    "plt.bar(df2['pais'], df2['value'], color=c3)\n",
    "plt.suptitle(\"Deuda pública del Gobierno Central como % del PIB (2020)\", fontsize=15)\n",
    "\n",
    "txt = \"Nota: Elaboración propia con datos de la Comisión Económica para América Latina (CEPAL)\"\n",
    "plt.figtext(0.5, 0.01, txt, wrap=True, horizontalalignment='center', fontsize=9)\n",
    "\n",
    "plt.savefig('grafico_deuda.png', dpi=2500)"
   ]
  },
  {
   "cell_type": "markdown",
   "id": "d9f449e4",
   "metadata": {},
   "source": [
    "Evolucion de la deuda en Nicaragua"
   ]
  },
  {
   "cell_type": "code",
   "execution_count": 3,
   "id": "8df2e747",
   "metadata": {},
   "outputs": [],
   "source": [
    "df3 = pd.read_excel(\"C:/Users/miran/Desktop/deuda_nicaragua.xlsx\")"
   ]
  },
  {
   "cell_type": "code",
   "execution_count": 14,
   "id": "d6142733",
   "metadata": {},
   "outputs": [
    {
     "data": {
      "text/html": [
       "<div>\n",
       "<style scoped>\n",
       "    .dataframe tbody tr th:only-of-type {\n",
       "        vertical-align: middle;\n",
       "    }\n",
       "\n",
       "    .dataframe tbody tr th {\n",
       "        vertical-align: top;\n",
       "    }\n",
       "\n",
       "    .dataframe thead th {\n",
       "        text-align: right;\n",
       "    }\n",
       "</style>\n",
       "<table border=\"1\" class=\"dataframe\">\n",
       "  <thead>\n",
       "    <tr style=\"text-align: right;\">\n",
       "      <th></th>\n",
       "      <th>año</th>\n",
       "      <th>value</th>\n",
       "    </tr>\n",
       "  </thead>\n",
       "  <tbody>\n",
       "    <tr>\n",
       "      <th>0</th>\n",
       "      <td>2000</td>\n",
       "      <td>86.9</td>\n",
       "    </tr>\n",
       "    <tr>\n",
       "      <th>1</th>\n",
       "      <td>2001</td>\n",
       "      <td>84.5</td>\n",
       "    </tr>\n",
       "    <tr>\n",
       "      <th>2</th>\n",
       "      <td>2002</td>\n",
       "      <td>102.8</td>\n",
       "    </tr>\n",
       "    <tr>\n",
       "      <th>3</th>\n",
       "      <td>2003</td>\n",
       "      <td>105.9</td>\n",
       "    </tr>\n",
       "    <tr>\n",
       "      <th>4</th>\n",
       "      <td>2004</td>\n",
       "      <td>77.4</td>\n",
       "    </tr>\n",
       "  </tbody>\n",
       "</table>\n",
       "</div>"
      ],
      "text/plain": [
       "    año  value\n",
       "0  2000   86.9\n",
       "1  2001   84.5\n",
       "2  2002  102.8\n",
       "3  2003  105.9\n",
       "4  2004   77.4"
      ]
     },
     "execution_count": 14,
     "metadata": {},
     "output_type": "execute_result"
    }
   ],
   "source": [
    "df3.head()"
   ]
  },
  {
   "cell_type": "code",
   "execution_count": 11,
   "id": "58b8228e",
   "metadata": {},
   "outputs": [],
   "source": [
    "df3['año'] = df3['año'].astype(str).apply(lambda x: x.replace('.0',''))"
   ]
  },
  {
   "cell_type": "code",
   "execution_count": 15,
   "id": "1443b34b",
   "metadata": {},
   "outputs": [],
   "source": [
    "x_ticks = [2000, 2005, 2010, 2015, 2020]"
   ]
  },
  {
   "cell_type": "code",
   "execution_count": 16,
   "id": "4fa0a147",
   "metadata": {},
   "outputs": [],
   "source": [
    "x_labels = ['2000', '2005', '2010', '2015', '2020']"
   ]
  },
  {
   "cell_type": "code",
   "execution_count": 37,
   "id": "8a8596e0",
   "metadata": {},
   "outputs": [
    {
     "data": {
      "image/png": "[encoded data removed]",
      "text/plain": [
       "<Figure size 576x432 with 1 Axes>"
      ]
     },
     "metadata": {
      "needs_background": "light"
     },
     "output_type": "display_data"
    }
   ],
   "source": [
    "plt.rcParams.update({'font.family': 'Book Antiqua'})\n",
    "plt.figure(figsize=(8,6))\n",
    "\n",
    "plt.plot(df3['año'], df3['value'], linewidth=3, color='#98F5FF')\n",
    "plt.xticks(rotation=45)\n",
    "plt.suptitle(\"Evolución de la deuda pública en Nicaragua\\n% del PIB\", fontsize=15)\n",
    "\n",
    "txt = \"Nota: Elaboración propia con datos de la Comisión Económica para América Latina (CEPAL)\"\n",
    "plt.figtext(0.5, 0.01, txt, wrap=True, horizontalalignment='center', fontsize=9)\n",
    "\n",
    "plt.savefig('grafico_deuda_nicaragua.png', dpi=2500)"
   ]
  },
  {
   "cell_type": "markdown",
   "id": "6422e188",
   "metadata": {},
   "source": [
    "Gasto Publico (datos de la CEPAL)"
   ]
  },
  {
   "cell_type": "code",
   "execution_count": 26,
   "id": "ffb3546e",
   "metadata": {},
   "outputs": [],
   "source": [
    "df4 = pd.read_excel(\"C:/Users/miran/Desktop/gasto_publico.xlsx\")"
   ]
  },
  {
   "cell_type": "code",
   "execution_count": 27,
   "id": "490151b2",
   "metadata": {},
   "outputs": [
    {
     "data": {
      "text/html": [
       "<div>\n",
       "<style scoped>\n",
       "    .dataframe tbody tr th:only-of-type {\n",
       "        vertical-align: middle;\n",
       "    }\n",
       "\n",
       "    .dataframe tbody tr th {\n",
       "        vertical-align: top;\n",
       "    }\n",
       "\n",
       "    .dataframe thead th {\n",
       "        text-align: right;\n",
       "    }\n",
       "</style>\n",
       "<table border=\"1\" class=\"dataframe\">\n",
       "  <thead>\n",
       "    <tr style=\"text-align: right;\">\n",
       "      <th></th>\n",
       "      <th>País__ESTANDAR</th>\n",
       "      <th>value</th>\n",
       "    </tr>\n",
       "  </thead>\n",
       "  <tbody>\n",
       "    <tr>\n",
       "      <th>0</th>\n",
       "      <td>Belice</td>\n",
       "      <td>39.357654</td>\n",
       "    </tr>\n",
       "    <tr>\n",
       "      <th>1</th>\n",
       "      <td>El Salvador</td>\n",
       "      <td>29.619201</td>\n",
       "    </tr>\n",
       "    <tr>\n",
       "      <th>2</th>\n",
       "      <td>Nicaragua</td>\n",
       "      <td>20.284791</td>\n",
       "    </tr>\n",
       "    <tr>\n",
       "      <th>3</th>\n",
       "      <td>Guatemala</td>\n",
       "      <td>15.808467</td>\n",
       "    </tr>\n",
       "    <tr>\n",
       "      <th>4</th>\n",
       "      <td>Honduras</td>\n",
       "      <td>23.646996</td>\n",
       "    </tr>\n",
       "    <tr>\n",
       "      <th>5</th>\n",
       "      <td>Costa Rica</td>\n",
       "      <td>21.346967</td>\n",
       "    </tr>\n",
       "  </tbody>\n",
       "</table>\n",
       "</div>"
      ],
      "text/plain": [
       "  País__ESTANDAR      value\n",
       "0         Belice  39.357654\n",
       "1    El Salvador  29.619201\n",
       "2      Nicaragua  20.284791\n",
       "3      Guatemala  15.808467\n",
       "4       Honduras  23.646996\n",
       "5     Costa Rica  21.346967"
      ]
     },
     "execution_count": 27,
     "metadata": {},
     "output_type": "execute_result"
    }
   ],
   "source": [
    "df4"
   ]
  },
  {
   "cell_type": "code",
   "execution_count": 28,
   "id": "ba171f55",
   "metadata": {},
   "outputs": [],
   "source": [
    "df4 = df4.rename(columns={'País__ESTANDAR':'pais'})"
   ]
  },
  {
   "cell_type": "code",
   "execution_count": 29,
   "id": "c750acbb",
   "metadata": {},
   "outputs": [
    {
     "data": {
      "text/html": [
       "<div>\n",
       "<style scoped>\n",
       "    .dataframe tbody tr th:only-of-type {\n",
       "        vertical-align: middle;\n",
       "    }\n",
       "\n",
       "    .dataframe tbody tr th {\n",
       "        vertical-align: top;\n",
       "    }\n",
       "\n",
       "    .dataframe thead th {\n",
       "        text-align: right;\n",
       "    }\n",
       "</style>\n",
       "<table border=\"1\" class=\"dataframe\">\n",
       "  <thead>\n",
       "    <tr style=\"text-align: right;\">\n",
       "      <th></th>\n",
       "      <th>pais</th>\n",
       "      <th>value</th>\n",
       "    </tr>\n",
       "  </thead>\n",
       "  <tbody>\n",
       "    <tr>\n",
       "      <th>0</th>\n",
       "      <td>Belice</td>\n",
       "      <td>39.357654</td>\n",
       "    </tr>\n",
       "    <tr>\n",
       "      <th>1</th>\n",
       "      <td>El Salvador</td>\n",
       "      <td>29.619201</td>\n",
       "    </tr>\n",
       "    <tr>\n",
       "      <th>2</th>\n",
       "      <td>Nicaragua</td>\n",
       "      <td>20.284791</td>\n",
       "    </tr>\n",
       "    <tr>\n",
       "      <th>3</th>\n",
       "      <td>Guatemala</td>\n",
       "      <td>15.808467</td>\n",
       "    </tr>\n",
       "    <tr>\n",
       "      <th>4</th>\n",
       "      <td>Honduras</td>\n",
       "      <td>23.646996</td>\n",
       "    </tr>\n",
       "    <tr>\n",
       "      <th>5</th>\n",
       "      <td>Costa Rica</td>\n",
       "      <td>21.346967</td>\n",
       "    </tr>\n",
       "  </tbody>\n",
       "</table>\n",
       "</div>"
      ],
      "text/plain": [
       "          pais      value\n",
       "0       Belice  39.357654\n",
       "1  El Salvador  29.619201\n",
       "2    Nicaragua  20.284791\n",
       "3    Guatemala  15.808467\n",
       "4     Honduras  23.646996\n",
       "5   Costa Rica  21.346967"
      ]
     },
     "execution_count": 29,
     "metadata": {},
     "output_type": "execute_result"
    }
   ],
   "source": [
    "df4"
   ]
  },
  {
   "cell_type": "code",
   "execution_count": 78,
   "id": "97e8a8b3",
   "metadata": {},
   "outputs": [],
   "source": [
    "df4 = df4.sort_values('value', ascending=False)"
   ]
  },
  {
   "cell_type": "code",
   "execution_count": 79,
   "id": "af2696db",
   "metadata": {},
   "outputs": [],
   "source": [
    "colors = []"
   ]
  },
  {
   "cell_type": "code",
   "execution_count": 80,
   "id": "84c746f3",
   "metadata": {},
   "outputs": [],
   "source": [
    "countries = ['Belice', 'El Salvador', 'Guatemala', 'Honduras', 'Costa Rica']"
   ]
  },
  {
   "cell_type": "code",
   "execution_count": 81,
   "id": "b2cb0be6",
   "metadata": {},
   "outputs": [],
   "source": [
    "for country in df4['pais']:\n",
    "    if country != 'Nicaragua':\n",
    "        colors.append('#98F5FF')\n",
    "    else:\n",
    "        colors.append('#0000FF')"
   ]
  },
  {
   "cell_type": "code",
   "execution_count": 82,
   "id": "c3fdba98",
   "metadata": {},
   "outputs": [
    {
     "data": {
      "text/plain": [
       "['#98F5FF', '#98F5FF', '#98F5FF', '#98F5FF', '#0000FF', '#98F5FF']"
      ]
     },
     "execution_count": 82,
     "metadata": {},
     "output_type": "execute_result"
    }
   ],
   "source": [
    "colors"
   ]
  },
  {
   "cell_type": "code",
   "execution_count": 88,
   "id": "75445f8f",
   "metadata": {},
   "outputs": [
    {
     "data": {
      "image/png": "[encoded data removed]",
      "text/plain": [
       "<Figure size 576x432 with 1 Axes>"
      ]
     },
     "metadata": {
      "needs_background": "light"
     },
     "output_type": "display_data"
    }
   ],
   "source": [
    "plt.rcParams.update({'font.family': 'Book Antiqua'})\n",
    "plt.figure(figsize=(8,6))\n",
    "\n",
    "plt.bar(df4['pais'], df4['value'], color=colors)\n",
    "plt.suptitle(\"Gasto público como % del PIB (2020)*\", fontsize=15)\n",
    "plt.ylabel('%', fontsize=12)\n",
    "\n",
    "txt = \"Nota: Elaboración propia con datos de la Comisión Económica para América Latina (CEPAL)\\n*No se contó con el dato de Panamá.\"\n",
    "plt.figtext(0.5, 0.01, txt, wrap=True, horizontalalignment='center', fontsize=9)\n",
    "\n",
    "plt.savefig('grafico_gasto_publico.png', dpi=2500)"
   ]
  },
  {
   "cell_type": "code",
   "execution_count": null,
   "id": "464cb746",
   "metadata": {},
   "outputs": [],
   "source": []
  }
 ],
 "metadata": {
  "kernelspec": {
   "display_name": "Python 3 (ipykernel)",
   "language": "python",
   "name": "python3"
  },
  "language_info": {
   "codemirror_mode": {
    "name": "ipython",
    "version": 3
   },
   "file_extension": ".py",
   "mimetype": "text/x-python",
   "name": "python",
   "nbconvert_exporter": "python",
   "pygments_lexer": "ipython3",
   "version": "3.9.7"
  }
 },
 "nbformat": 4,
 "nbformat_minor": 5
}
